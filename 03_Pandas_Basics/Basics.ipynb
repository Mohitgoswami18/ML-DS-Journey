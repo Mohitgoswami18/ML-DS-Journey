{
 "cells": [
  {
   "cell_type": "markdown",
   "id": "f2bf9f64",
   "metadata": {},
   "source": [
    "# Pandas"
   ]
  },
  {
   "cell_type": "code",
   "execution_count": 83,
   "id": "8888f7f7",
   "metadata": {},
   "outputs": [],
   "source": [
    "import pandas as pd\n",
    "import numpy as np"
   ]
  },
  {
   "cell_type": "markdown",
   "id": "4028ff45",
   "metadata": {},
   "source": [
    "Pandas is a Python library for data analysis and manipulation.\n",
    "\n",
    "Built on top of NumPy → faster and optimized for handling tabular data.\n",
    "\n",
    "Name comes from \"Panel Data"
   ]
  },
  {
   "cell_type": "markdown",
   "id": "b0415943",
   "metadata": {},
   "source": [
    "### Series in pandas"
   ]
  },
  {
   "cell_type": "markdown",
   "id": "519abf25",
   "metadata": {},
   "source": [
    "a series is a one dimensional labeled array or sequence in pandas"
   ]
  },
  {
   "cell_type": "code",
   "execution_count": 84,
   "id": "7427c726",
   "metadata": {},
   "outputs": [
    {
     "data": {
      "text/plain": [
       "first     1\n",
       "second    2\n",
       "third     3\n",
       "dtype: int64"
      ]
     },
     "execution_count": 84,
     "metadata": {},
     "output_type": "execute_result"
    }
   ],
   "source": [
    "lis = [1,2,3,4]\n",
    "series_by_list = pd.Series(lis)\n",
    "\n",
    "dict = {'a':1, 'b':2, 'c':3}\n",
    "series_by_dict = pd.Series(dict)\n",
    "\n",
    "arr = np.arange(4)\n",
    "series_by_array = pd.Series(arr)\n",
    "\n",
    "index = [\"first\", \"second\", \"third\"]\n",
    "list2 = [1,2,3]\n",
    "\n",
    "series_with_index = pd.Series(list2, index=index)\n",
    "\n",
    "series_with_index"
   ]
  },
  {
   "cell_type": "markdown",
   "id": "2cd3aefe",
   "metadata": {},
   "source": [
    "### DataFrame in Pandas"
   ]
  },
  {
   "cell_type": "markdown",
   "id": "3e1e55ea",
   "metadata": {},
   "source": [
    "dataframes is a datatype in pandas it can be seen as a collection of various series in a form of table\n",
    "there are various ways of creating a dataframes in pandas"
   ]
  },
  {
   "cell_type": "code",
   "execution_count": 85,
   "id": "693a960e",
   "metadata": {},
   "outputs": [
    {
     "data": {
      "text/html": [
       "<div>\n",
       "<style scoped>\n",
       "    .dataframe tbody tr th:only-of-type {\n",
       "        vertical-align: middle;\n",
       "    }\n",
       "\n",
       "    .dataframe tbody tr th {\n",
       "        vertical-align: top;\n",
       "    }\n",
       "\n",
       "    .dataframe thead th {\n",
       "        text-align: right;\n",
       "    }\n",
       "</style>\n",
       "<table border=\"1\" class=\"dataframe\">\n",
       "  <thead>\n",
       "    <tr style=\"text-align: right;\">\n",
       "      <th></th>\n",
       "      <th>name</th>\n",
       "      <th>income</th>\n",
       "      <th>city</th>\n",
       "    </tr>\n",
       "  </thead>\n",
       "  <tbody>\n",
       "    <tr>\n",
       "      <th>0</th>\n",
       "      <td>mohit</td>\n",
       "      <td>1000</td>\n",
       "      <td>meerut</td>\n",
       "    </tr>\n",
       "    <tr>\n",
       "      <th>1</th>\n",
       "      <td>rohit</td>\n",
       "      <td>2000</td>\n",
       "      <td>mumbai</td>\n",
       "    </tr>\n",
       "  </tbody>\n",
       "</table>\n",
       "</div>"
      ],
      "text/plain": [
       "    name  income    city\n",
       "0  mohit    1000  meerut\n",
       "1  rohit    2000  mumbai"
      ]
     },
     "execution_count": 85,
     "metadata": {},
     "output_type": "execute_result"
    }
   ],
   "source": [
    "by_dictionary = {\"name\":[\"mohit\", \"rohit\"], \n",
    "                 \"income\": [1000, 2000],\n",
    "                 \"city\":[\"meerut\", \"mumbai\"]}\n",
    "\n",
    "df_by_dict = pd.DataFrame(by_dictionary)\n",
    "\n",
    "by_list = [[\"mohit\",1000, \"meerut\"],[\"rohit\", 2000, \"mumbai\"]]\n",
    "columns = [\"name\", \"income\", \"city\"]\n",
    "df_by_list = pd.DataFrame(by_list, columns=columns)\n",
    "\n",
    "by_list_of_dictionary = [{\"name\":\"mohit\", \"income\": 1000,\"city\": \"meerut\"}, \n",
    "                         {\"name\":\"rohit\", \"income\": 2000,\"city\": \"delhi\"}]\n",
    "\n",
    "df_by_list_of_dictionary = pd.DataFrame(by_list_of_dictionary)\n",
    "\n",
    "df_by_dict\n",
    "# print(df_by_list)\n",
    "# print(df_by_list_of_dictionary)"
   ]
  },
  {
   "cell_type": "markdown",
   "id": "4550c06c",
   "metadata": {},
   "source": [
    "## Accessing columns and rows in a dataframe"
   ]
  },
  {
   "cell_type": "code",
   "execution_count": 86,
   "id": "8ed4560a",
   "metadata": {},
   "outputs": [
    {
     "data": {
      "text/html": [
       "<div>\n",
       "<style scoped>\n",
       "    .dataframe tbody tr th:only-of-type {\n",
       "        vertical-align: middle;\n",
       "    }\n",
       "\n",
       "    .dataframe tbody tr th {\n",
       "        vertical-align: top;\n",
       "    }\n",
       "\n",
       "    .dataframe thead th {\n",
       "        text-align: right;\n",
       "    }\n",
       "</style>\n",
       "<table border=\"1\" class=\"dataframe\">\n",
       "  <thead>\n",
       "    <tr style=\"text-align: right;\">\n",
       "      <th></th>\n",
       "      <th>name</th>\n",
       "      <th>income</th>\n",
       "    </tr>\n",
       "  </thead>\n",
       "  <tbody>\n",
       "    <tr>\n",
       "      <th>0</th>\n",
       "      <td>mohit</td>\n",
       "      <td>1000</td>\n",
       "    </tr>\n",
       "    <tr>\n",
       "      <th>1</th>\n",
       "      <td>rohit</td>\n",
       "      <td>2000</td>\n",
       "    </tr>\n",
       "  </tbody>\n",
       "</table>\n",
       "</div>"
      ],
      "text/plain": [
       "    name  income\n",
       "0  mohit    1000\n",
       "1  rohit    2000"
      ]
     },
     "execution_count": 86,
     "metadata": {},
     "output_type": "execute_result"
    }
   ],
   "source": [
    "by_dictionary = {\"name\":[\"mohit\", \"rohit\"], \n",
    "                 \"income\": [1000, 2000],\n",
    "                 \"city\":[\"meerut\", \"mumbai\"]}\n",
    "\n",
    "df = pd.DataFrame(by_dictionary)\n",
    "\n",
    "# accessing First column -> name \n",
    "# print(df['name'])\n",
    "# df.name\n",
    "\n",
    "# accessing names and income\n",
    "df[[\"name\", \"income\"]]\n"
   ]
  },
  {
   "cell_type": "code",
   "execution_count": 87,
   "id": "4cb8d5a7",
   "metadata": {},
   "outputs": [
    {
     "name": "stdout",
     "output_type": "stream",
     "text": [
      "name       mohit\n",
      "income      1000\n",
      "city      meerut\n",
      "Name: 0, dtype: object\n"
     ]
    },
    {
     "data": {
      "text/html": [
       "<div>\n",
       "<style scoped>\n",
       "    .dataframe tbody tr th:only-of-type {\n",
       "        vertical-align: middle;\n",
       "    }\n",
       "\n",
       "    .dataframe tbody tr th {\n",
       "        vertical-align: top;\n",
       "    }\n",
       "\n",
       "    .dataframe thead th {\n",
       "        text-align: right;\n",
       "    }\n",
       "</style>\n",
       "<table border=\"1\" class=\"dataframe\">\n",
       "  <thead>\n",
       "    <tr style=\"text-align: right;\">\n",
       "      <th></th>\n",
       "      <th>name</th>\n",
       "      <th>income</th>\n",
       "      <th>city</th>\n",
       "    </tr>\n",
       "  </thead>\n",
       "  <tbody>\n",
       "    <tr>\n",
       "      <th>0</th>\n",
       "      <td>mohit</td>\n",
       "      <td>1000</td>\n",
       "      <td>meerut</td>\n",
       "    </tr>\n",
       "    <tr>\n",
       "      <th>1</th>\n",
       "      <td>rohit</td>\n",
       "      <td>2000</td>\n",
       "      <td>mumbai</td>\n",
       "    </tr>\n",
       "  </tbody>\n",
       "</table>\n",
       "</div>"
      ],
      "text/plain": [
       "    name  income    city\n",
       "0  mohit    1000  meerut\n",
       "1  rohit    2000  mumbai"
      ]
     },
     "execution_count": 87,
     "metadata": {},
     "output_type": "execute_result"
    }
   ],
   "source": [
    "\n",
    "# accessing a 1st row\n",
    "print(df.iloc[0])\n",
    "\n",
    "# accessing multiple rows\n",
    "df.iloc[[0, 1]]"
   ]
  },
  {
   "cell_type": "markdown",
   "id": "1b0625f3",
   "metadata": {},
   "source": [
    "## filtering or conditional accessing"
   ]
  },
  {
   "cell_type": "code",
   "execution_count": 88,
   "id": "b3187caa",
   "metadata": {},
   "outputs": [
    {
     "name": "stdout",
     "output_type": "stream",
     "text": [
      "    name  income    city\n",
      "1  rohit    2000  mumbai\n"
     ]
    },
    {
     "data": {
      "text/html": [
       "<div>\n",
       "<style scoped>\n",
       "    .dataframe tbody tr th:only-of-type {\n",
       "        vertical-align: middle;\n",
       "    }\n",
       "\n",
       "    .dataframe tbody tr th {\n",
       "        vertical-align: top;\n",
       "    }\n",
       "\n",
       "    .dataframe thead th {\n",
       "        text-align: right;\n",
       "    }\n",
       "</style>\n",
       "<table border=\"1\" class=\"dataframe\">\n",
       "  <thead>\n",
       "    <tr style=\"text-align: right;\">\n",
       "      <th></th>\n",
       "      <th>name</th>\n",
       "      <th>income</th>\n",
       "      <th>city</th>\n",
       "    </tr>\n",
       "  </thead>\n",
       "  <tbody>\n",
       "    <tr>\n",
       "      <th>1</th>\n",
       "      <td>rohit</td>\n",
       "      <td>2000</td>\n",
       "      <td>mumbai</td>\n",
       "    </tr>\n",
       "  </tbody>\n",
       "</table>\n",
       "</div>"
      ],
      "text/plain": [
       "    name  income    city\n",
       "1  rohit    2000  mumbai"
      ]
     },
     "execution_count": 88,
     "metadata": {},
     "output_type": "execute_result"
    }
   ],
   "source": [
    "by_dictionary = {\"name\":[\"mohit\", \"rohit\"], \n",
    "                 \"income\": [1000, 2000],\n",
    "                 \"city\":[\"meerut\", \"mumbai\"]}\n",
    "\n",
    "df = pd.DataFrame(by_dictionary)\n",
    "\n",
    "# accessing names having income above 1000\n",
    "print(df[df.income > 1000])\n",
    "\n",
    "# accessing names having income above 1000 and city mumbai\n",
    "df[(df.income > 1000 ) & (df.city == \"mumbai\")]"
   ]
  },
  {
   "cell_type": "markdown",
   "id": "8c5481c7",
   "metadata": {},
   "source": [
    "## Adding a column and row in the dataframe"
   ]
  },
  {
   "cell_type": "code",
   "execution_count": 89,
   "id": "5d1007b7",
   "metadata": {},
   "outputs": [
    {
     "name": "stdout",
     "output_type": "stream",
     "text": [
      "    name  income    city  new_column new_column2 new_column3\n",
      "0  mohit    1000  meerut           1           a           @\n",
      "1  rohit    2000  mumbai           2           b           #\n"
     ]
    },
    {
     "data": {
      "text/html": [
       "<div>\n",
       "<style scoped>\n",
       "    .dataframe tbody tr th:only-of-type {\n",
       "        vertical-align: middle;\n",
       "    }\n",
       "\n",
       "    .dataframe tbody tr th {\n",
       "        vertical-align: top;\n",
       "    }\n",
       "\n",
       "    .dataframe thead th {\n",
       "        text-align: right;\n",
       "    }\n",
       "</style>\n",
       "<table border=\"1\" class=\"dataframe\">\n",
       "  <thead>\n",
       "    <tr style=\"text-align: right;\">\n",
       "      <th></th>\n",
       "      <th>name</th>\n",
       "      <th>income</th>\n",
       "      <th>city</th>\n",
       "      <th>new_column</th>\n",
       "      <th>new_column2</th>\n",
       "      <th>new_column3</th>\n",
       "    </tr>\n",
       "  </thead>\n",
       "  <tbody>\n",
       "    <tr>\n",
       "      <th>0</th>\n",
       "      <td>mohit</td>\n",
       "      <td>1000</td>\n",
       "      <td>meerut</td>\n",
       "      <td>1</td>\n",
       "      <td>a</td>\n",
       "      <td>@</td>\n",
       "    </tr>\n",
       "    <tr>\n",
       "      <th>1</th>\n",
       "      <td>rohit</td>\n",
       "      <td>2000</td>\n",
       "      <td>mumbai</td>\n",
       "      <td>2</td>\n",
       "      <td>b</td>\n",
       "      <td>#</td>\n",
       "    </tr>\n",
       "    <tr>\n",
       "      <th>2</th>\n",
       "      <td>rohit</td>\n",
       "      <td>2000</td>\n",
       "      <td>mumbai</td>\n",
       "      <td>3</td>\n",
       "      <td>c</td>\n",
       "      <td>*</td>\n",
       "    </tr>\n",
       "  </tbody>\n",
       "</table>\n",
       "</div>"
      ],
      "text/plain": [
       "    name  income    city  new_column new_column2 new_column3\n",
       "0  mohit    1000  meerut           1           a           @\n",
       "1  rohit    2000  mumbai           2           b           #\n",
       "2  rohit    2000  mumbai           3           c           *"
      ]
     },
     "execution_count": 89,
     "metadata": {},
     "output_type": "execute_result"
    }
   ],
   "source": [
    "# adding a columns in dataframe\n",
    "df['new_column'] = [1, 2]\n",
    "df\n",
    "\n",
    "# adding multiple columns in dataframe\n",
    "df[['new_column2', 'new_column3']] = [['a', '@'], ['b', '#']]\n",
    "print(df)\n",
    "\n",
    "# adding a row in dataframe\n",
    "df.loc[2] = [\"rohit\", 2000, \"mumbai\", 3, 'c', '*']\n",
    "df"
   ]
  },
  {
   "cell_type": "markdown",
   "id": "a35197dd",
   "metadata": {},
   "source": [
    "## Deleting row and columns in dataframes"
   ]
  },
  {
   "cell_type": "code",
   "execution_count": 90,
   "id": "de648c52",
   "metadata": {},
   "outputs": [
    {
     "data": {
      "text/html": [
       "<div>\n",
       "<style scoped>\n",
       "    .dataframe tbody tr th:only-of-type {\n",
       "        vertical-align: middle;\n",
       "    }\n",
       "\n",
       "    .dataframe tbody tr th {\n",
       "        vertical-align: top;\n",
       "    }\n",
       "\n",
       "    .dataframe thead th {\n",
       "        text-align: right;\n",
       "    }\n",
       "</style>\n",
       "<table border=\"1\" class=\"dataframe\">\n",
       "  <thead>\n",
       "    <tr style=\"text-align: right;\">\n",
       "      <th></th>\n",
       "      <th>name</th>\n",
       "      <th>income</th>\n",
       "      <th>city</th>\n",
       "      <th>new_column</th>\n",
       "    </tr>\n",
       "  </thead>\n",
       "  <tbody>\n",
       "    <tr>\n",
       "      <th>0</th>\n",
       "      <td>mohit</td>\n",
       "      <td>1000</td>\n",
       "      <td>meerut</td>\n",
       "      <td>1</td>\n",
       "    </tr>\n",
       "    <tr>\n",
       "      <th>1</th>\n",
       "      <td>rohit</td>\n",
       "      <td>2000</td>\n",
       "      <td>mumbai</td>\n",
       "      <td>2</td>\n",
       "    </tr>\n",
       "  </tbody>\n",
       "</table>\n",
       "</div>"
      ],
      "text/plain": [
       "    name  income    city  new_column\n",
       "0  mohit    1000  meerut           1\n",
       "1  rohit    2000  mumbai           2"
      ]
     },
     "execution_count": 90,
     "metadata": {},
     "output_type": "execute_result"
    }
   ],
   "source": [
    "# deleting columns in a dataframe\n",
    "df.drop(['new_column2', 'new_column3'], axis=1, inplace=True)\n",
    "df\n",
    "\n",
    "# deleting rows from a dataframe\n",
    "df.drop([2], axis=0, inplace=True)\n",
    "df"
   ]
  }
 ],
 "metadata": {
  "kernelspec": {
   "display_name": "venv",
   "language": "python",
   "name": "python3"
  },
  "language_info": {
   "codemirror_mode": {
    "name": "ipython",
    "version": 3
   },
   "file_extension": ".py",
   "mimetype": "text/x-python",
   "name": "python",
   "nbconvert_exporter": "python",
   "pygments_lexer": "ipython3",
   "version": "3.12.4"
  }
 },
 "nbformat": 4,
 "nbformat_minor": 5
}
