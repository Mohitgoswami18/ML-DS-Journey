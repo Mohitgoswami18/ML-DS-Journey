{
 "cells": [
  {
   "cell_type": "markdown",
   "id": "d2068aae",
   "metadata": {},
   "source": [
    "### operations on real Data Set"
   ]
  },
  {
   "cell_type": "markdown",
   "id": "80c45c84",
   "metadata": {},
   "source": [
    "we have this data of 8 students having some marks in 5 subjects"
   ]
  },
  {
   "cell_type": "code",
   "execution_count": 1,
   "id": "1c19b8a4",
   "metadata": {},
   "outputs": [
    {
     "name": "stdout",
     "output_type": "stream",
     "text": [
      "Marks (rows = students, cols = subjects):\n",
      " [[ 78  91  68  54  82]\n",
      " [ 47 100  60  78  97]\n",
      " [ 58  62  50  50  63]\n",
      " [ 92  75  79  63  42]\n",
      " [ 61  92  41  63  83]\n",
      " [ 69  77  41  99  60]\n",
      " [ 72  51  97  61 100]\n",
      " [ 83  64  88  66  98]]\n"
     ]
    }
   ],
   "source": [
    "import numpy as np\n",
    "\n",
    "np.random.seed(42)  # reproducibility\n",
    "marks = np.random.randint(40, 101, size=(8, 5))  # 40–100 inclusive\n",
    "\n",
    "print(\"Marks (rows = students, cols = subjects):\\n\", marks)"
   ]
  },
  {
   "cell_type": "markdown",
   "id": "6b261388",
   "metadata": {},
   "source": [
    "### Basic Mathematical operations"
   ]
  },
  {
   "cell_type": "code",
   "execution_count": 5,
   "id": "02238682",
   "metadata": {},
   "outputs": [
    {
     "name": "stdout",
     "output_type": "stream",
     "text": [
      "[373 382 283 351 340 346 381 399]\n",
      "[74.6 76.4 56.6 70.2 68.  69.2 76.2 79.8]\n",
      "399\n"
     ]
    }
   ],
   "source": [
    "# Finding total, average, maximum marks of each student \n",
    "total_mark_array = np.sum(marks[:, :], axis=1)\n",
    "print(total_mark_array)\n",
    "\n",
    "average_marks_array = np.mean(marks[:, :], axis=1)\n",
    "print(average_marks_array)\n",
    "\n",
    "maximum_marks = np.max(total_mark_array)\n",
    "print(maximum_marks)"
   ]
  },
  {
   "cell_type": "code",
   "execution_count": 10,
   "id": "c85a3ad8",
   "metadata": {},
   "outputs": [
    {
     "name": "stdout",
     "output_type": "stream",
     "text": [
      "[ 92 100  97  99 100]\n",
      "[47 51 41 50 42]\n",
      "[70.    76.5   65.5   66.75  78.125]\n",
      "65.5\n"
     ]
    }
   ],
   "source": [
    "#  finding highest lowest and average marks of each subject\n",
    "highest_marks_array = np.max(marks[:, :], axis=0)\n",
    "print(highest_marks_array)\n",
    "\n",
    "lowest_marks_array = np.min(marks[:, :], axis=0)\n",
    "print(lowest_marks_array)\n",
    "\n",
    "average_marks_per_subject = np.mean(marks[:, :], axis=0)\n",
    "print(average_marks_per_subject)\n",
    "\n",
    "hardest_subject = np.min(average_marks_per_subject)\n",
    "print(hardest_subject)\n"
   ]
  },
  {
   "cell_type": "markdown",
   "id": "73eb5237",
   "metadata": {},
   "source": [
    "### Filtering and Masking"
   ]
  },
  {
   "cell_type": "code",
   "execution_count": 19,
   "id": "534d6425",
   "metadata": {},
   "outputs": [
    {
     "name": "stdout",
     "output_type": "stream",
     "text": [
      "[ 47 100  60  78  97]\n",
      "[92 75 79 63 42]\n",
      "[61 92 41 63 83]\n",
      "[69 77 41 99 60]\n",
      "[ 72  51  97  61 100]\n",
      "[83 64 88 66 98]\n",
      "\n",
      "\n",
      "\n",
      "[74.6 76.4 76.2 79.8]\n"
     ]
    }
   ],
   "source": [
    "# filtering and searching\n",
    "\n",
    "class_average = np.mean(marks)\n",
    "# print(class_average)\n",
    "\n",
    "for i in marks: \n",
    "    for j in i:\n",
    "        if j > 91:\n",
    "            print(i)\n",
    "            break\n",
    "\n",
    "print(\"\\n\\n\")\n",
    "# score less than 50 in all subjects\n",
    "for i in marks:\n",
    "    flag = False\n",
    "    for j in i:\n",
    "        if j > 50: \n",
    "            flag = True\n",
    "            break\n",
    "    if flag == False:\n",
    "        print (i)\n",
    "\n",
    "# stdent whose average is above averge of the class\n",
    "student_average = np.mean(marks[:, :], axis=1)\n",
    "mask = student_average > class_average\n",
    "\n",
    "above_average_students = student_average[mask]\n",
    "print(above_average_students)\n",
    "            "
   ]
  },
  {
   "cell_type": "markdown",
   "id": "c354ec87",
   "metadata": {},
   "source": [
    "### Indexing And Slicing"
   ]
  },
  {
   "cell_type": "code",
   "execution_count": 24,
   "id": "7d39d5c1",
   "metadata": {},
   "outputs": [
    {
     "name": "stdout",
     "output_type": "stream",
     "text": [
      "[[ 78  91  68  54  82]\n",
      " [ 47 100  60  78  97]]\n",
      "[78 47 58 92 61 69 72 83]\n",
      "[58 62 50 50 63]\n",
      "[61 92 41 63 83]\n"
     ]
    }
   ],
   "source": [
    "#  Marks of first 2 students\n",
    "marks_of_2_students = marks[:2, :]\n",
    "print(marks_of_2_students)\n",
    "\n",
    "marks_of_maths = marks[:, 0]\n",
    "print(marks_of_maths)\n",
    "\n",
    "# Marks of 2nd and 4th student only\n",
    "marks_of_2nd_students = marks[2, :]\n",
    "marks_of_4th_students = marks[4, :]\n",
    "\n",
    "print(marks_of_2nd_students)\n",
    "print(marks_of_4th_students)"
   ]
  }
 ],
 "metadata": {
  "kernelspec": {
   "display_name": "Python 3",
   "language": "python",
   "name": "python3"
  },
  "language_info": {
   "codemirror_mode": {
    "name": "ipython",
    "version": 3
   },
   "file_extension": ".py",
   "mimetype": "text/x-python",
   "name": "python",
   "nbconvert_exporter": "python",
   "pygments_lexer": "ipython3",
   "version": "3.12.4"
  }
 },
 "nbformat": 4,
 "nbformat_minor": 5
}
