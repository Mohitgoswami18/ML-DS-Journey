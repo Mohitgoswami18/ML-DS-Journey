{
 "cells": [
  {
   "cell_type": "markdown",
   "id": "be73c75e",
   "metadata": {},
   "source": [
    "### Operations on arrays in numpy"
   ]
  },
  {
   "cell_type": "markdown",
   "id": "3514ccf7",
   "metadata": {},
   "source": []
  }
 ],
 "metadata": {
  "language_info": {
   "name": "python"
  }
 },
 "nbformat": 4,
 "nbformat_minor": 5
}
