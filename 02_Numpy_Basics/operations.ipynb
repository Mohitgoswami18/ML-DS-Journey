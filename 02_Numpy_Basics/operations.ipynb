{
 "cells": [
  {
   "cell_type": "markdown",
   "id": "be73c75e",
   "metadata": {},
   "source": [
    "### Operations on arrays in numpy"
   ]
  },
  {
   "cell_type": "code",
   "execution_count": 1,
   "id": "b87a5ec7",
   "metadata": {},
   "outputs": [],
   "source": [
    "import numpy as np"
   ]
  },
  {
   "cell_type": "code",
   "execution_count": 11,
   "id": "43cc70f5",
   "metadata": {},
   "outputs": [
    {
     "name": "stdout",
     "output_type": "stream",
     "text": [
      "[[1 2 3]\n",
      " [4 5 6]]\n",
      "[[1 2 3]\n",
      " [4 5 6]]\n",
      "[1 2 3 4 5 6]\n",
      "[ 4  5  6  7  8  9 10 11 12 13]\n",
      "[ 2  4  6  8 10 12 14 16 18 20]\n",
      "[[1 3 4]\n",
      " [2 4 5]]\n"
     ]
    }
   ],
   "source": [
    "arr = np.array([1,2,3,4,5,6])\n",
    "new_arr = arr.reshape((2,3)) # changes the shape of the original array\n",
    "arr.resize((2,3)) # don't modify the original array returns a new array \n",
    "print(arr)\n",
    "print(new_arr)\n",
    "\n",
    "flattend_array = new_arr.flatten()\n",
    "print(flattend_array)\n",
    "\n",
    "# ADDITION IN ARRAYS\n",
    "array_2 = np.arange(1,11)\n",
    "array_2 = array_2 + 3\n",
    "print(array_2)\n",
    "\n",
    "# MULTIPLICATION IN ARRAYS\n",
    "array_3 = np.arange(1,11)\n",
    "array_3 = array_3 * 2\n",
    "print(array_3)\n",
    "\n",
    "# TRANSPOSE OF MATRIX\n",
    "matrix = np.array([[1,2],[3,4],[4,5]])\n",
    "transpose = matrix.T\n",
    "print(transpose)"
   ]
  },
  {
   "cell_type": "code",
   "execution_count": 39,
   "id": "dc9d82ab",
   "metadata": {},
   "outputs": [
    {
     "name": "stdout",
     "output_type": "stream",
     "text": [
      "1\n",
      "[1 2 3]\n",
      "10\n",
      "3rd Element of 1st row is : 3\n",
      "1st row of 2D array is: [1 2 3]\n",
      "1st col of the 2D array is : [1 4 7]\n"
     ]
    }
   ],
   "source": [
    "array = np.array([1,2,3,4,5,6,7,8,9,10])\n",
    "print(array[0])\n",
    "print(array[0:3])\n",
    "print(array[-1])\n",
    "\n",
    "array_2D = np.array([[1,2,3], [4,5,6], [7,8,9]])\n",
    "print(\"3rd Element of 1st row is :\", array_2D[0,2])\n",
    "\n",
    "print(\"1st row of 2D array is:\", array_2D[0, :])\n",
    "print(\"1st col of the 2D array is :\", array_2D[:, 0])\n"
   ]
  },
  {
   "cell_type": "markdown",
   "id": "6d53894d",
   "metadata": {},
   "source": [
    "### Sorting\n"
   ]
  },
  {
   "cell_type": "code",
   "execution_count": 42,
   "id": "3de1e3c7",
   "metadata": {},
   "outputs": [
    {
     "name": "stdout",
     "output_type": "stream",
     "text": [
      "[[0.55160042 0.24718164 0.61707335 0.9887134  0.13196111 0.81803332\n",
      "  0.82366852 0.28866214 0.79046198]]\n",
      "[[0.13196111 0.24718164 0.28866214 0.55160042 0.61707335 0.79046198\n",
      "  0.81803332 0.82366852 0.9887134 ]]\n",
      "[[1 2]\n",
      " [3 4]\n",
      " [4 5]]\n",
      "[[1 2]\n",
      " [3 4]\n",
      " [4 5]]\n"
     ]
    }
   ],
   "source": [
    "array = np.random.random((1,9))\n",
    "print(array)\n",
    "sorted_array = np.sort(array)\n",
    "print(sorted_array)\n",
    "\n",
    "matrix = np.array([[1,2],[3,4],[4,5]])\n",
    "sorted_matrix_by_col = np.sort(matrix, axis=0)\n",
    "sorted_matrix_by_row = np.sort(matrix, axis=1)\n",
    "\n",
    "print(sorted_matrix_by_col)\n",
    "print(sorted_matrix_by_row)"
   ]
  },
  {
   "cell_type": "markdown",
   "id": "b41ca650",
   "metadata": {},
   "source": [
    "### Masking and Filtering"
   ]
  },
  {
   "cell_type": "code",
   "execution_count": null,
   "id": "ee89fbc3",
   "metadata": {},
   "outputs": [
    {
     "name": "stdout",
     "output_type": "stream",
     "text": [
      "[ 2  4  6  8 10]\n",
      "[False  True False  True False  True False  True False  True]\n",
      "[ 2  4  6  8 10]\n",
      "[1 0 3 0 5 0 7 0 9 0]\n"
     ]
    }
   ],
   "source": [
    "array = np.array([1,2,3,4,5,6,7,8,9,10])\n",
    "filtered_array = array[array % 2 == 0] #filtering\n",
    "print(filtered_array)\n",
    "\n",
    "mask = array % 2 == 0\n",
    "print(mask)\n",
    "filter_by_mask = array[mask] #Filtering by Mask\n",
    "print(filter_by_mask)\n",
    "\n",
    "where_array = np.where(array % 2 == 0, 0, array)\n",
    "print(where_array)"
   ]
  }
 ],
 "metadata": {
  "kernelspec": {
   "display_name": "Python 3",
   "language": "python",
   "name": "python3"
  },
  "language_info": {
   "codemirror_mode": {
    "name": "ipython",
    "version": 3
   },
   "file_extension": ".py",
   "mimetype": "text/x-python",
   "name": "python",
   "nbconvert_exporter": "python",
   "pygments_lexer": "ipython3",
   "version": "3.12.4"
  }
 },
 "nbformat": 4,
 "nbformat_minor": 5
}
