{
 "cells": [
  {
   "cell_type": "markdown",
   "id": "4d2ae331",
   "metadata": {},
   "source": [
    "## Basics Of Numpy"
   ]
  },
  {
   "cell_type": "markdown",
   "id": "fc6a19e4",
   "metadata": {},
   "source": [
    "numpy is used for performing mathematical operations on arrays as they are very oprtimised, fast and efficient as compared to list in python"
   ]
  },
  {
   "cell_type": "markdown",
   "id": "2fa1eff8",
   "metadata": {},
   "source": [
    "### Import Numpy "
   ]
  },
  {
   "cell_type": "code",
   "execution_count": 6,
   "id": "4a66c4d4",
   "metadata": {},
   "outputs": [],
   "source": [
    "import numpy as np"
   ]
  },
  {
   "cell_type": "markdown",
   "id": "9ae2c523",
   "metadata": {},
   "source": [
    "### Creating first array"
   ]
  },
  {
   "cell_type": "code",
   "execution_count": 17,
   "id": "3d60fcd0",
   "metadata": {},
   "outputs": [
    {
     "name": "stdout",
     "output_type": "stream",
     "text": [
      "[1 2 3 4]\n",
      "[[1 2 3]\n",
      " [4 5 6]]\n"
     ]
    }
   ],
   "source": [
    "arr = np.array([1,2,3,4]) #1D array\n",
    "print(arr)\n",
    "\n",
    "matrix = np.array([[1,2,3], [4,5,6]]) # 2D array\n",
    "print(matrix)\n",
    "\n",
    "tensor = np.array([[[1,2,3],[4,5,6]],[[7,8,9],[10,11,12]]]) #nD array\n",
    "# print(tensor)"
   ]
  },
  {
   "cell_type": "markdown",
   "id": "08e083f7",
   "metadata": {},
   "source": [
    "### Numpy Array VS Python Lists"
   ]
  },
  {
   "cell_type": "code",
   "execution_count": 16,
   "id": "9f1e8f31",
   "metadata": {},
   "outputs": [
    {
     "name": "stdout",
     "output_type": "stream",
     "text": [
      "time taken 28.585803270339966\n",
      "0.9527871608734131\n"
     ]
    }
   ],
   "source": [
    "import time \n",
    "start_time = time.time()\n",
    "\n",
    "python_list = [x*2 for x in range(1,100000000)]\n",
    "print(\"time taken\", time.time() - start_time)\n",
    "\n",
    "start_time = time.time()\n",
    "python_array = np.arange(0,100000000)\n",
    "python_array = python_array * 2\n",
    "print(time.time() - start_time)"
   ]
  },
  {
   "cell_type": "markdown",
   "id": "2be5f883",
   "metadata": {},
   "source": [
    "Python lists are very slow as compared to numpy arrays "
   ]
  },
  {
   "cell_type": "markdown",
   "id": "2ca0d317",
   "metadata": {},
   "source": [
    "### properties of arrays in numpy"
   ]
  },
  {
   "cell_type": "code",
   "execution_count": null,
   "id": "908d5175",
   "metadata": {},
   "outputs": [
    {
     "name": "stdout",
     "output_type": "stream",
     "text": [
      "(4,)\n",
      "1\n",
      "4\n"
     ]
    }
   ],
   "source": [
    "print(arr.shape) #shape of the array\n",
    "print(arr.ndim) #Dimension of the array\n",
    "print(arr.size) # Number of elements in the array"
   ]
  },
  {
   "cell_type": "markdown",
   "id": "b5e763fc",
   "metadata": {},
   "source": [
    "### various ways of creating array in numpy"
   ]
  },
  {
   "cell_type": "code",
   "execution_count": 13,
   "id": "a4f68f16",
   "metadata": {},
   "outputs": [
    {
     "name": "stdout",
     "output_type": "stream",
     "text": [
      "[[0. 0. 0.]\n",
      " [0. 0. 0.]]\n",
      "[[1. 1. 1.]\n",
      " [1. 1. 1.]]\n",
      "[0 1 2 3 4 5 6 7 8 9]\n",
      "[[3 3 3]\n",
      " [3 3 3]]\n",
      "[[0.98337018 0.9306927  0.6369306  0.95150123]\n",
      " [0.1823763  0.11735361 0.76603109 0.18686345]]\n"
     ]
    }
   ],
   "source": [
    "zeroes_array = np.zeros((2,3))\n",
    "print(zeroes_array)\n",
    "\n",
    "ones_array = np.ones((2,3))\n",
    "print(ones_array)\n",
    "\n",
    "array_with_range = np.arange(0,10)\n",
    "print(array_with_range) \n",
    "\n",
    "array_with_constants = np.full((2,3), 3)\n",
    "print(array_with_constants)\n",
    "\n",
    "array_with_randoms = np.random.random((2,4))\n",
    "print(array_with_randoms)"
   ]
  }
 ],
 "metadata": {
  "kernelspec": {
   "display_name": "venv",
   "language": "python",
   "name": "python3"
  },
  "language_info": {
   "codemirror_mode": {
    "name": "ipython",
    "version": 3
   },
   "file_extension": ".py",
   "mimetype": "text/x-python",
   "name": "python",
   "nbconvert_exporter": "python",
   "pygments_lexer": "ipython3",
   "version": "3.12.4"
  }
 },
 "nbformat": 4,
 "nbformat_minor": 5
}
